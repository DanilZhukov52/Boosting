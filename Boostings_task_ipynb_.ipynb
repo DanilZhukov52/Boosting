{
  "nbformat": 4,
  "nbformat_minor": 0,
  "metadata": {
    "colab": {
      "provenance": []
    },
    "kernelspec": {
      "name": "python3",
      "display_name": "Python 3"
    },
    "language_info": {
      "name": "python"
    }
  },
  "cells": [
    {
      "cell_type": "markdown",
      "source": [
        "# Прогнозируем задержки самолетов"
      ],
      "metadata": {
        "id": "8bieQL5lwfBD"
      }
    },
    {
      "cell_type": "code",
      "source": [
        "!pip install catboost lightgbm optuna -q"
      ],
      "metadata": {
        "colab": {
          "base_uri": "https://localhost:8080/"
        },
        "id": "DARqocv0wz0z",
        "outputId": "8a5b2da9-1d4e-4f23-f3a7-ebf5ef9a2fbb"
      },
      "execution_count": null,
      "outputs": [
        {
          "output_type": "stream",
          "name": "stdout",
          "text": [
            "\u001b[2K   \u001b[90m━━━━━━━━━━━━━━━━━━━━━━━━━━━━━━━━━━━━━━━━\u001b[0m \u001b[32m98.2/98.2 MB\u001b[0m \u001b[31m7.9 MB/s\u001b[0m eta \u001b[36m0:00:00\u001b[0m\n",
            "\u001b[2K   \u001b[90m━━━━━━━━━━━━━━━━━━━━━━━━━━━━━━━━━━━━━━━━\u001b[0m \u001b[32m380.1/380.1 kB\u001b[0m \u001b[31m8.8 MB/s\u001b[0m eta \u001b[36m0:00:00\u001b[0m\n",
            "\u001b[2K   \u001b[90m━━━━━━━━━━━━━━━━━━━━━━━━━━━━━━━━━━━━━━━━\u001b[0m \u001b[32m233.0/233.0 kB\u001b[0m \u001b[31m10.8 MB/s\u001b[0m eta \u001b[36m0:00:00\u001b[0m\n",
            "\u001b[2K   \u001b[90m━━━━━━━━━━━━━━━━━━━━━━━━━━━━━━━━━━━━━━━━\u001b[0m \u001b[32m78.6/78.6 kB\u001b[0m \u001b[31m3.7 MB/s\u001b[0m eta \u001b[36m0:00:00\u001b[0m\n",
            "\u001b[?25h"
          ]
        }
      ]
    },
    {
      "cell_type": "code",
      "source": [
        "from sklearn.model_selection import train_test_split, cross_val_score\n",
        "from sklearn.metrics import roc_auc_score\n",
        "import pandas as pd\n",
        "\n",
        "from catboost import CatBoostClassifier\n",
        "from lightgbm import LGBMClassifier"
      ],
      "metadata": {
        "id": "U-gc09zSwvyF",
        "outputId": "a4e655b7-37cb-49a5-919a-5047843dc12f",
        "colab": {
          "base_uri": "https://localhost:8080/"
        }
      },
      "execution_count": null,
      "outputs": [
        {
          "output_type": "stream",
          "name": "stderr",
          "text": [
            "/usr/local/lib/python3.10/dist-packages/dask/dataframe/__init__.py:42: FutureWarning: \n",
            "Dask dataframe query planning is disabled because dask-expr is not installed.\n",
            "\n",
            "You can install it with `pip install dask[dataframe]` or `conda install dask`.\n",
            "This will raise in a future version.\n",
            "\n",
            "  warnings.warn(msg, FutureWarning)\n"
          ]
        }
      ]
    },
    {
      "cell_type": "code",
      "execution_count": null,
      "metadata": {
        "id": "C4LFGZPXweF2"
      },
      "outputs": [],
      "source": [
        "RANDOM_STATE = 111\n",
        "DATASET_PATH = 'https://raw.githubusercontent.com/evgpat/edu_stepik_practical_ml/main/datasets/flight_delays_train.csv'"
      ]
    },
    {
      "cell_type": "code",
      "source": [
        "data = pd.read_csv(DATASET_PATH)\n",
        "\n",
        "X = data.drop('dep_delayed_15min', axis=1)\n",
        "y = data['dep_delayed_15min'] == 'Y'\n",
        "\n",
        "X.head()"
      ],
      "metadata": {
        "colab": {
          "base_uri": "https://localhost:8080/",
          "height": 206
        },
        "id": "m788vNOUxBNU",
        "outputId": "6166bebf-b089-4bc0-9c6c-9774855b5ef7"
      },
      "execution_count": null,
      "outputs": [
        {
          "output_type": "execute_result",
          "data": {
            "text/plain": [
              "  Month DayofMonth DayOfWeek  DepTime UniqueCarrier Origin Dest  Distance\n",
              "0   c-8       c-21       c-7     1934            AA    ATL  DFW       732\n",
              "1   c-4       c-20       c-3     1548            US    PIT  MCO       834\n",
              "2   c-9        c-2       c-5     1422            XE    RDU  CLE       416\n",
              "3  c-11       c-25       c-6     1015            OO    DEN  MEM       872\n",
              "4  c-10        c-7       c-6     1828            WN    MDW  OMA       423"
            ],
            "text/html": [
              "\n",
              "  <div id=\"df-fc266752-6346-4471-9d44-e894b71829a0\" class=\"colab-df-container\">\n",
              "    <div>\n",
              "<style scoped>\n",
              "    .dataframe tbody tr th:only-of-type {\n",
              "        vertical-align: middle;\n",
              "    }\n",
              "\n",
              "    .dataframe tbody tr th {\n",
              "        vertical-align: top;\n",
              "    }\n",
              "\n",
              "    .dataframe thead th {\n",
              "        text-align: right;\n",
              "    }\n",
              "</style>\n",
              "<table border=\"1\" class=\"dataframe\">\n",
              "  <thead>\n",
              "    <tr style=\"text-align: right;\">\n",
              "      <th></th>\n",
              "      <th>Month</th>\n",
              "      <th>DayofMonth</th>\n",
              "      <th>DayOfWeek</th>\n",
              "      <th>DepTime</th>\n",
              "      <th>UniqueCarrier</th>\n",
              "      <th>Origin</th>\n",
              "      <th>Dest</th>\n",
              "      <th>Distance</th>\n",
              "    </tr>\n",
              "  </thead>\n",
              "  <tbody>\n",
              "    <tr>\n",
              "      <th>0</th>\n",
              "      <td>c-8</td>\n",
              "      <td>c-21</td>\n",
              "      <td>c-7</td>\n",
              "      <td>1934</td>\n",
              "      <td>AA</td>\n",
              "      <td>ATL</td>\n",
              "      <td>DFW</td>\n",
              "      <td>732</td>\n",
              "    </tr>\n",
              "    <tr>\n",
              "      <th>1</th>\n",
              "      <td>c-4</td>\n",
              "      <td>c-20</td>\n",
              "      <td>c-3</td>\n",
              "      <td>1548</td>\n",
              "      <td>US</td>\n",
              "      <td>PIT</td>\n",
              "      <td>MCO</td>\n",
              "      <td>834</td>\n",
              "    </tr>\n",
              "    <tr>\n",
              "      <th>2</th>\n",
              "      <td>c-9</td>\n",
              "      <td>c-2</td>\n",
              "      <td>c-5</td>\n",
              "      <td>1422</td>\n",
              "      <td>XE</td>\n",
              "      <td>RDU</td>\n",
              "      <td>CLE</td>\n",
              "      <td>416</td>\n",
              "    </tr>\n",
              "    <tr>\n",
              "      <th>3</th>\n",
              "      <td>c-11</td>\n",
              "      <td>c-25</td>\n",
              "      <td>c-6</td>\n",
              "      <td>1015</td>\n",
              "      <td>OO</td>\n",
              "      <td>DEN</td>\n",
              "      <td>MEM</td>\n",
              "      <td>872</td>\n",
              "    </tr>\n",
              "    <tr>\n",
              "      <th>4</th>\n",
              "      <td>c-10</td>\n",
              "      <td>c-7</td>\n",
              "      <td>c-6</td>\n",
              "      <td>1828</td>\n",
              "      <td>WN</td>\n",
              "      <td>MDW</td>\n",
              "      <td>OMA</td>\n",
              "      <td>423</td>\n",
              "    </tr>\n",
              "  </tbody>\n",
              "</table>\n",
              "</div>\n",
              "    <div class=\"colab-df-buttons\">\n",
              "\n",
              "  <div class=\"colab-df-container\">\n",
              "    <button class=\"colab-df-convert\" onclick=\"convertToInteractive('df-fc266752-6346-4471-9d44-e894b71829a0')\"\n",
              "            title=\"Convert this dataframe to an interactive table.\"\n",
              "            style=\"display:none;\">\n",
              "\n",
              "  <svg xmlns=\"http://www.w3.org/2000/svg\" height=\"24px\" viewBox=\"0 -960 960 960\">\n",
              "    <path d=\"M120-120v-720h720v720H120Zm60-500h600v-160H180v160Zm220 220h160v-160H400v160Zm0 220h160v-160H400v160ZM180-400h160v-160H180v160Zm440 0h160v-160H620v160ZM180-180h160v-160H180v160Zm440 0h160v-160H620v160Z\"/>\n",
              "  </svg>\n",
              "    </button>\n",
              "\n",
              "  <style>\n",
              "    .colab-df-container {\n",
              "      display:flex;\n",
              "      gap: 12px;\n",
              "    }\n",
              "\n",
              "    .colab-df-convert {\n",
              "      background-color: #E8F0FE;\n",
              "      border: none;\n",
              "      border-radius: 50%;\n",
              "      cursor: pointer;\n",
              "      display: none;\n",
              "      fill: #1967D2;\n",
              "      height: 32px;\n",
              "      padding: 0 0 0 0;\n",
              "      width: 32px;\n",
              "    }\n",
              "\n",
              "    .colab-df-convert:hover {\n",
              "      background-color: #E2EBFA;\n",
              "      box-shadow: 0px 1px 2px rgba(60, 64, 67, 0.3), 0px 1px 3px 1px rgba(60, 64, 67, 0.15);\n",
              "      fill: #174EA6;\n",
              "    }\n",
              "\n",
              "    .colab-df-buttons div {\n",
              "      margin-bottom: 4px;\n",
              "    }\n",
              "\n",
              "    [theme=dark] .colab-df-convert {\n",
              "      background-color: #3B4455;\n",
              "      fill: #D2E3FC;\n",
              "    }\n",
              "\n",
              "    [theme=dark] .colab-df-convert:hover {\n",
              "      background-color: #434B5C;\n",
              "      box-shadow: 0px 1px 3px 1px rgba(0, 0, 0, 0.15);\n",
              "      filter: drop-shadow(0px 1px 2px rgba(0, 0, 0, 0.3));\n",
              "      fill: #FFFFFF;\n",
              "    }\n",
              "  </style>\n",
              "\n",
              "    <script>\n",
              "      const buttonEl =\n",
              "        document.querySelector('#df-fc266752-6346-4471-9d44-e894b71829a0 button.colab-df-convert');\n",
              "      buttonEl.style.display =\n",
              "        google.colab.kernel.accessAllowed ? 'block' : 'none';\n",
              "\n",
              "      async function convertToInteractive(key) {\n",
              "        const element = document.querySelector('#df-fc266752-6346-4471-9d44-e894b71829a0');\n",
              "        const dataTable =\n",
              "          await google.colab.kernel.invokeFunction('convertToInteractive',\n",
              "                                                    [key], {});\n",
              "        if (!dataTable) return;\n",
              "\n",
              "        const docLinkHtml = 'Like what you see? Visit the ' +\n",
              "          '<a target=\"_blank\" href=https://colab.research.google.com/notebooks/data_table.ipynb>data table notebook</a>'\n",
              "          + ' to learn more about interactive tables.';\n",
              "        element.innerHTML = '';\n",
              "        dataTable['output_type'] = 'display_data';\n",
              "        await google.colab.output.renderOutput(dataTable, element);\n",
              "        const docLink = document.createElement('div');\n",
              "        docLink.innerHTML = docLinkHtml;\n",
              "        element.appendChild(docLink);\n",
              "      }\n",
              "    </script>\n",
              "  </div>\n",
              "\n",
              "\n",
              "<div id=\"df-46e6b676-9805-4c46-a7e7-2ce04807ff1b\">\n",
              "  <button class=\"colab-df-quickchart\" onclick=\"quickchart('df-46e6b676-9805-4c46-a7e7-2ce04807ff1b')\"\n",
              "            title=\"Suggest charts\"\n",
              "            style=\"display:none;\">\n",
              "\n",
              "<svg xmlns=\"http://www.w3.org/2000/svg\" height=\"24px\"viewBox=\"0 0 24 24\"\n",
              "     width=\"24px\">\n",
              "    <g>\n",
              "        <path d=\"M19 3H5c-1.1 0-2 .9-2 2v14c0 1.1.9 2 2 2h14c1.1 0 2-.9 2-2V5c0-1.1-.9-2-2-2zM9 17H7v-7h2v7zm4 0h-2V7h2v10zm4 0h-2v-4h2v4z\"/>\n",
              "    </g>\n",
              "</svg>\n",
              "  </button>\n",
              "\n",
              "<style>\n",
              "  .colab-df-quickchart {\n",
              "      --bg-color: #E8F0FE;\n",
              "      --fill-color: #1967D2;\n",
              "      --hover-bg-color: #E2EBFA;\n",
              "      --hover-fill-color: #174EA6;\n",
              "      --disabled-fill-color: #AAA;\n",
              "      --disabled-bg-color: #DDD;\n",
              "  }\n",
              "\n",
              "  [theme=dark] .colab-df-quickchart {\n",
              "      --bg-color: #3B4455;\n",
              "      --fill-color: #D2E3FC;\n",
              "      --hover-bg-color: #434B5C;\n",
              "      --hover-fill-color: #FFFFFF;\n",
              "      --disabled-bg-color: #3B4455;\n",
              "      --disabled-fill-color: #666;\n",
              "  }\n",
              "\n",
              "  .colab-df-quickchart {\n",
              "    background-color: var(--bg-color);\n",
              "    border: none;\n",
              "    border-radius: 50%;\n",
              "    cursor: pointer;\n",
              "    display: none;\n",
              "    fill: var(--fill-color);\n",
              "    height: 32px;\n",
              "    padding: 0;\n",
              "    width: 32px;\n",
              "  }\n",
              "\n",
              "  .colab-df-quickchart:hover {\n",
              "    background-color: var(--hover-bg-color);\n",
              "    box-shadow: 0 1px 2px rgba(60, 64, 67, 0.3), 0 1px 3px 1px rgba(60, 64, 67, 0.15);\n",
              "    fill: var(--button-hover-fill-color);\n",
              "  }\n",
              "\n",
              "  .colab-df-quickchart-complete:disabled,\n",
              "  .colab-df-quickchart-complete:disabled:hover {\n",
              "    background-color: var(--disabled-bg-color);\n",
              "    fill: var(--disabled-fill-color);\n",
              "    box-shadow: none;\n",
              "  }\n",
              "\n",
              "  .colab-df-spinner {\n",
              "    border: 2px solid var(--fill-color);\n",
              "    border-color: transparent;\n",
              "    border-bottom-color: var(--fill-color);\n",
              "    animation:\n",
              "      spin 1s steps(1) infinite;\n",
              "  }\n",
              "\n",
              "  @keyframes spin {\n",
              "    0% {\n",
              "      border-color: transparent;\n",
              "      border-bottom-color: var(--fill-color);\n",
              "      border-left-color: var(--fill-color);\n",
              "    }\n",
              "    20% {\n",
              "      border-color: transparent;\n",
              "      border-left-color: var(--fill-color);\n",
              "      border-top-color: var(--fill-color);\n",
              "    }\n",
              "    30% {\n",
              "      border-color: transparent;\n",
              "      border-left-color: var(--fill-color);\n",
              "      border-top-color: var(--fill-color);\n",
              "      border-right-color: var(--fill-color);\n",
              "    }\n",
              "    40% {\n",
              "      border-color: transparent;\n",
              "      border-right-color: var(--fill-color);\n",
              "      border-top-color: var(--fill-color);\n",
              "    }\n",
              "    60% {\n",
              "      border-color: transparent;\n",
              "      border-right-color: var(--fill-color);\n",
              "    }\n",
              "    80% {\n",
              "      border-color: transparent;\n",
              "      border-right-color: var(--fill-color);\n",
              "      border-bottom-color: var(--fill-color);\n",
              "    }\n",
              "    90% {\n",
              "      border-color: transparent;\n",
              "      border-bottom-color: var(--fill-color);\n",
              "    }\n",
              "  }\n",
              "</style>\n",
              "\n",
              "  <script>\n",
              "    async function quickchart(key) {\n",
              "      const quickchartButtonEl =\n",
              "        document.querySelector('#' + key + ' button');\n",
              "      quickchartButtonEl.disabled = true;  // To prevent multiple clicks.\n",
              "      quickchartButtonEl.classList.add('colab-df-spinner');\n",
              "      try {\n",
              "        const charts = await google.colab.kernel.invokeFunction(\n",
              "            'suggestCharts', [key], {});\n",
              "      } catch (error) {\n",
              "        console.error('Error during call to suggestCharts:', error);\n",
              "      }\n",
              "      quickchartButtonEl.classList.remove('colab-df-spinner');\n",
              "      quickchartButtonEl.classList.add('colab-df-quickchart-complete');\n",
              "    }\n",
              "    (() => {\n",
              "      let quickchartButtonEl =\n",
              "        document.querySelector('#df-46e6b676-9805-4c46-a7e7-2ce04807ff1b button');\n",
              "      quickchartButtonEl.style.display =\n",
              "        google.colab.kernel.accessAllowed ? 'block' : 'none';\n",
              "    })();\n",
              "  </script>\n",
              "</div>\n",
              "    </div>\n",
              "  </div>\n"
            ],
            "application/vnd.google.colaboratory.intrinsic+json": {
              "type": "dataframe",
              "variable_name": "X",
              "summary": "{\n  \"name\": \"X\",\n  \"rows\": 100000,\n  \"fields\": [\n    {\n      \"column\": \"Month\",\n      \"properties\": {\n        \"dtype\": \"category\",\n        \"num_unique_values\": 12,\n        \"samples\": [\n          \"c-12\",\n          \"c-3\",\n          \"c-8\"\n        ],\n        \"semantic_type\": \"\",\n        \"description\": \"\"\n      }\n    },\n    {\n      \"column\": \"DayofMonth\",\n      \"properties\": {\n        \"dtype\": \"category\",\n        \"num_unique_values\": 31,\n        \"samples\": [\n          \"c-12\",\n          \"c-22\",\n          \"c-24\"\n        ],\n        \"semantic_type\": \"\",\n        \"description\": \"\"\n      }\n    },\n    {\n      \"column\": \"DayOfWeek\",\n      \"properties\": {\n        \"dtype\": \"category\",\n        \"num_unique_values\": 7,\n        \"samples\": [\n          \"c-7\",\n          \"c-3\",\n          \"c-2\"\n        ],\n        \"semantic_type\": \"\",\n        \"description\": \"\"\n      }\n    },\n    {\n      \"column\": \"DepTime\",\n      \"properties\": {\n        \"dtype\": \"number\",\n        \"std\": 476,\n        \"min\": 1,\n        \"max\": 2534,\n        \"num_unique_values\": 1300,\n        \"samples\": [\n          1550,\n          839,\n          1149\n        ],\n        \"semantic_type\": \"\",\n        \"description\": \"\"\n      }\n    },\n    {\n      \"column\": \"UniqueCarrier\",\n      \"properties\": {\n        \"dtype\": \"category\",\n        \"num_unique_values\": 22,\n        \"samples\": [\n          \"AA\",\n          \"DH\",\n          \"AS\"\n        ],\n        \"semantic_type\": \"\",\n        \"description\": \"\"\n      }\n    },\n    {\n      \"column\": \"Origin\",\n      \"properties\": {\n        \"dtype\": \"category\",\n        \"num_unique_values\": 289,\n        \"samples\": [\n          \"BOS\",\n          \"SRQ\",\n          \"DLG\"\n        ],\n        \"semantic_type\": \"\",\n        \"description\": \"\"\n      }\n    },\n    {\n      \"column\": \"Dest\",\n      \"properties\": {\n        \"dtype\": \"category\",\n        \"num_unique_values\": 289,\n        \"samples\": [\n          \"JAN\",\n          \"SRQ\",\n          \"SCC\"\n        ],\n        \"semantic_type\": \"\",\n        \"description\": \"\"\n      }\n    },\n    {\n      \"column\": \"Distance\",\n      \"properties\": {\n        \"dtype\": \"number\",\n        \"std\": 574,\n        \"min\": 30,\n        \"max\": 4962,\n        \"num_unique_values\": 1310,\n        \"samples\": [\n          1142,\n          663,\n          2116\n        ],\n        \"semantic_type\": \"\",\n        \"description\": \"\"\n      }\n    }\n  ]\n}"
            }
          },
          "metadata": {},
          "execution_count": 4
        }
      ]
    },
    {
      "cell_type": "markdown",
      "source": [
        "Создайте список номеров колонок с категориальными признаками для бустингов\n",
        "\n",
        "## Quiz\n",
        "Какой длины получился список?\n",
        "\n",
        "(подсказка: колонка `DepTime` числовая)"
      ],
      "metadata": {
        "id": "WoeAqm7x7Of9"
      }
    },
    {
      "cell_type": "code",
      "source": [
        "cat_features = X.select_dtypes(include=['object']).columns.to_list()"
      ],
      "metadata": {
        "id": "f2_RDMSdxgtC"
      },
      "execution_count": null,
      "outputs": []
    },
    {
      "cell_type": "markdown",
      "source": [
        "Разобъем данные на обучение и контроль"
      ],
      "metadata": {
        "id": "AFUsTHb_7Tm0"
      }
    },
    {
      "cell_type": "code",
      "source": [
        "Xtrain, Xtest, ytrain, ytest = train_test_split(X, y, test_size=0.25, random_state=RANDOM_STATE)"
      ],
      "metadata": {
        "id": "b5hPnUwvwu_Z"
      },
      "execution_count": null,
      "outputs": []
    },
    {
      "cell_type": "code",
      "source": [
        "Xtrain.head()"
      ],
      "metadata": {
        "colab": {
          "base_uri": "https://localhost:8080/",
          "height": 206
        },
        "id": "EysJWEMy00fZ",
        "outputId": "9500c00d-61f8-419c-f8f9-34f9b5a87d8f"
      },
      "execution_count": null,
      "outputs": [
        {
          "output_type": "execute_result",
          "data": {
            "text/plain": [
              "      Month DayofMonth DayOfWeek  DepTime UniqueCarrier Origin Dest  Distance\n",
              "41207   c-4       c-18       c-1     1457            CO    EWR  TPA       998\n",
              "28283  c-11        c-1       c-2     1225            UA    DEN  BOS      1754\n",
              "34619   c-6       c-16       c-5     1650            YV    IAD  CAE       401\n",
              "8789    c-5       c-18       c-4      923            AA    SLC  DFW       988\n",
              "38315   c-2       c-14       c-2     1839            AA    STL  SAN      1558"
            ],
            "text/html": [
              "\n",
              "  <div id=\"df-15e896a2-298a-49f0-bbac-d3ec0e3011e8\" class=\"colab-df-container\">\n",
              "    <div>\n",
              "<style scoped>\n",
              "    .dataframe tbody tr th:only-of-type {\n",
              "        vertical-align: middle;\n",
              "    }\n",
              "\n",
              "    .dataframe tbody tr th {\n",
              "        vertical-align: top;\n",
              "    }\n",
              "\n",
              "    .dataframe thead th {\n",
              "        text-align: right;\n",
              "    }\n",
              "</style>\n",
              "<table border=\"1\" class=\"dataframe\">\n",
              "  <thead>\n",
              "    <tr style=\"text-align: right;\">\n",
              "      <th></th>\n",
              "      <th>Month</th>\n",
              "      <th>DayofMonth</th>\n",
              "      <th>DayOfWeek</th>\n",
              "      <th>DepTime</th>\n",
              "      <th>UniqueCarrier</th>\n",
              "      <th>Origin</th>\n",
              "      <th>Dest</th>\n",
              "      <th>Distance</th>\n",
              "    </tr>\n",
              "  </thead>\n",
              "  <tbody>\n",
              "    <tr>\n",
              "      <th>41207</th>\n",
              "      <td>c-4</td>\n",
              "      <td>c-18</td>\n",
              "      <td>c-1</td>\n",
              "      <td>1457</td>\n",
              "      <td>CO</td>\n",
              "      <td>EWR</td>\n",
              "      <td>TPA</td>\n",
              "      <td>998</td>\n",
              "    </tr>\n",
              "    <tr>\n",
              "      <th>28283</th>\n",
              "      <td>c-11</td>\n",
              "      <td>c-1</td>\n",
              "      <td>c-2</td>\n",
              "      <td>1225</td>\n",
              "      <td>UA</td>\n",
              "      <td>DEN</td>\n",
              "      <td>BOS</td>\n",
              "      <td>1754</td>\n",
              "    </tr>\n",
              "    <tr>\n",
              "      <th>34619</th>\n",
              "      <td>c-6</td>\n",
              "      <td>c-16</td>\n",
              "      <td>c-5</td>\n",
              "      <td>1650</td>\n",
              "      <td>YV</td>\n",
              "      <td>IAD</td>\n",
              "      <td>CAE</td>\n",
              "      <td>401</td>\n",
              "    </tr>\n",
              "    <tr>\n",
              "      <th>8789</th>\n",
              "      <td>c-5</td>\n",
              "      <td>c-18</td>\n",
              "      <td>c-4</td>\n",
              "      <td>923</td>\n",
              "      <td>AA</td>\n",
              "      <td>SLC</td>\n",
              "      <td>DFW</td>\n",
              "      <td>988</td>\n",
              "    </tr>\n",
              "    <tr>\n",
              "      <th>38315</th>\n",
              "      <td>c-2</td>\n",
              "      <td>c-14</td>\n",
              "      <td>c-2</td>\n",
              "      <td>1839</td>\n",
              "      <td>AA</td>\n",
              "      <td>STL</td>\n",
              "      <td>SAN</td>\n",
              "      <td>1558</td>\n",
              "    </tr>\n",
              "  </tbody>\n",
              "</table>\n",
              "</div>\n",
              "    <div class=\"colab-df-buttons\">\n",
              "\n",
              "  <div class=\"colab-df-container\">\n",
              "    <button class=\"colab-df-convert\" onclick=\"convertToInteractive('df-15e896a2-298a-49f0-bbac-d3ec0e3011e8')\"\n",
              "            title=\"Convert this dataframe to an interactive table.\"\n",
              "            style=\"display:none;\">\n",
              "\n",
              "  <svg xmlns=\"http://www.w3.org/2000/svg\" height=\"24px\" viewBox=\"0 -960 960 960\">\n",
              "    <path d=\"M120-120v-720h720v720H120Zm60-500h600v-160H180v160Zm220 220h160v-160H400v160Zm0 220h160v-160H400v160ZM180-400h160v-160H180v160Zm440 0h160v-160H620v160ZM180-180h160v-160H180v160Zm440 0h160v-160H620v160Z\"/>\n",
              "  </svg>\n",
              "    </button>\n",
              "\n",
              "  <style>\n",
              "    .colab-df-container {\n",
              "      display:flex;\n",
              "      gap: 12px;\n",
              "    }\n",
              "\n",
              "    .colab-df-convert {\n",
              "      background-color: #E8F0FE;\n",
              "      border: none;\n",
              "      border-radius: 50%;\n",
              "      cursor: pointer;\n",
              "      display: none;\n",
              "      fill: #1967D2;\n",
              "      height: 32px;\n",
              "      padding: 0 0 0 0;\n",
              "      width: 32px;\n",
              "    }\n",
              "\n",
              "    .colab-df-convert:hover {\n",
              "      background-color: #E2EBFA;\n",
              "      box-shadow: 0px 1px 2px rgba(60, 64, 67, 0.3), 0px 1px 3px 1px rgba(60, 64, 67, 0.15);\n",
              "      fill: #174EA6;\n",
              "    }\n",
              "\n",
              "    .colab-df-buttons div {\n",
              "      margin-bottom: 4px;\n",
              "    }\n",
              "\n",
              "    [theme=dark] .colab-df-convert {\n",
              "      background-color: #3B4455;\n",
              "      fill: #D2E3FC;\n",
              "    }\n",
              "\n",
              "    [theme=dark] .colab-df-convert:hover {\n",
              "      background-color: #434B5C;\n",
              "      box-shadow: 0px 1px 3px 1px rgba(0, 0, 0, 0.15);\n",
              "      filter: drop-shadow(0px 1px 2px rgba(0, 0, 0, 0.3));\n",
              "      fill: #FFFFFF;\n",
              "    }\n",
              "  </style>\n",
              "\n",
              "    <script>\n",
              "      const buttonEl =\n",
              "        document.querySelector('#df-15e896a2-298a-49f0-bbac-d3ec0e3011e8 button.colab-df-convert');\n",
              "      buttonEl.style.display =\n",
              "        google.colab.kernel.accessAllowed ? 'block' : 'none';\n",
              "\n",
              "      async function convertToInteractive(key) {\n",
              "        const element = document.querySelector('#df-15e896a2-298a-49f0-bbac-d3ec0e3011e8');\n",
              "        const dataTable =\n",
              "          await google.colab.kernel.invokeFunction('convertToInteractive',\n",
              "                                                    [key], {});\n",
              "        if (!dataTable) return;\n",
              "\n",
              "        const docLinkHtml = 'Like what you see? Visit the ' +\n",
              "          '<a target=\"_blank\" href=https://colab.research.google.com/notebooks/data_table.ipynb>data table notebook</a>'\n",
              "          + ' to learn more about interactive tables.';\n",
              "        element.innerHTML = '';\n",
              "        dataTable['output_type'] = 'display_data';\n",
              "        await google.colab.output.renderOutput(dataTable, element);\n",
              "        const docLink = document.createElement('div');\n",
              "        docLink.innerHTML = docLinkHtml;\n",
              "        element.appendChild(docLink);\n",
              "      }\n",
              "    </script>\n",
              "  </div>\n",
              "\n",
              "\n",
              "<div id=\"df-2f2a61ef-9300-4ddf-b27a-d3cba76d2d4a\">\n",
              "  <button class=\"colab-df-quickchart\" onclick=\"quickchart('df-2f2a61ef-9300-4ddf-b27a-d3cba76d2d4a')\"\n",
              "            title=\"Suggest charts\"\n",
              "            style=\"display:none;\">\n",
              "\n",
              "<svg xmlns=\"http://www.w3.org/2000/svg\" height=\"24px\"viewBox=\"0 0 24 24\"\n",
              "     width=\"24px\">\n",
              "    <g>\n",
              "        <path d=\"M19 3H5c-1.1 0-2 .9-2 2v14c0 1.1.9 2 2 2h14c1.1 0 2-.9 2-2V5c0-1.1-.9-2-2-2zM9 17H7v-7h2v7zm4 0h-2V7h2v10zm4 0h-2v-4h2v4z\"/>\n",
              "    </g>\n",
              "</svg>\n",
              "  </button>\n",
              "\n",
              "<style>\n",
              "  .colab-df-quickchart {\n",
              "      --bg-color: #E8F0FE;\n",
              "      --fill-color: #1967D2;\n",
              "      --hover-bg-color: #E2EBFA;\n",
              "      --hover-fill-color: #174EA6;\n",
              "      --disabled-fill-color: #AAA;\n",
              "      --disabled-bg-color: #DDD;\n",
              "  }\n",
              "\n",
              "  [theme=dark] .colab-df-quickchart {\n",
              "      --bg-color: #3B4455;\n",
              "      --fill-color: #D2E3FC;\n",
              "      --hover-bg-color: #434B5C;\n",
              "      --hover-fill-color: #FFFFFF;\n",
              "      --disabled-bg-color: #3B4455;\n",
              "      --disabled-fill-color: #666;\n",
              "  }\n",
              "\n",
              "  .colab-df-quickchart {\n",
              "    background-color: var(--bg-color);\n",
              "    border: none;\n",
              "    border-radius: 50%;\n",
              "    cursor: pointer;\n",
              "    display: none;\n",
              "    fill: var(--fill-color);\n",
              "    height: 32px;\n",
              "    padding: 0;\n",
              "    width: 32px;\n",
              "  }\n",
              "\n",
              "  .colab-df-quickchart:hover {\n",
              "    background-color: var(--hover-bg-color);\n",
              "    box-shadow: 0 1px 2px rgba(60, 64, 67, 0.3), 0 1px 3px 1px rgba(60, 64, 67, 0.15);\n",
              "    fill: var(--button-hover-fill-color);\n",
              "  }\n",
              "\n",
              "  .colab-df-quickchart-complete:disabled,\n",
              "  .colab-df-quickchart-complete:disabled:hover {\n",
              "    background-color: var(--disabled-bg-color);\n",
              "    fill: var(--disabled-fill-color);\n",
              "    box-shadow: none;\n",
              "  }\n",
              "\n",
              "  .colab-df-spinner {\n",
              "    border: 2px solid var(--fill-color);\n",
              "    border-color: transparent;\n",
              "    border-bottom-color: var(--fill-color);\n",
              "    animation:\n",
              "      spin 1s steps(1) infinite;\n",
              "  }\n",
              "\n",
              "  @keyframes spin {\n",
              "    0% {\n",
              "      border-color: transparent;\n",
              "      border-bottom-color: var(--fill-color);\n",
              "      border-left-color: var(--fill-color);\n",
              "    }\n",
              "    20% {\n",
              "      border-color: transparent;\n",
              "      border-left-color: var(--fill-color);\n",
              "      border-top-color: var(--fill-color);\n",
              "    }\n",
              "    30% {\n",
              "      border-color: transparent;\n",
              "      border-left-color: var(--fill-color);\n",
              "      border-top-color: var(--fill-color);\n",
              "      border-right-color: var(--fill-color);\n",
              "    }\n",
              "    40% {\n",
              "      border-color: transparent;\n",
              "      border-right-color: var(--fill-color);\n",
              "      border-top-color: var(--fill-color);\n",
              "    }\n",
              "    60% {\n",
              "      border-color: transparent;\n",
              "      border-right-color: var(--fill-color);\n",
              "    }\n",
              "    80% {\n",
              "      border-color: transparent;\n",
              "      border-right-color: var(--fill-color);\n",
              "      border-bottom-color: var(--fill-color);\n",
              "    }\n",
              "    90% {\n",
              "      border-color: transparent;\n",
              "      border-bottom-color: var(--fill-color);\n",
              "    }\n",
              "  }\n",
              "</style>\n",
              "\n",
              "  <script>\n",
              "    async function quickchart(key) {\n",
              "      const quickchartButtonEl =\n",
              "        document.querySelector('#' + key + ' button');\n",
              "      quickchartButtonEl.disabled = true;  // To prevent multiple clicks.\n",
              "      quickchartButtonEl.classList.add('colab-df-spinner');\n",
              "      try {\n",
              "        const charts = await google.colab.kernel.invokeFunction(\n",
              "            'suggestCharts', [key], {});\n",
              "      } catch (error) {\n",
              "        console.error('Error during call to suggestCharts:', error);\n",
              "      }\n",
              "      quickchartButtonEl.classList.remove('colab-df-spinner');\n",
              "      quickchartButtonEl.classList.add('colab-df-quickchart-complete');\n",
              "    }\n",
              "    (() => {\n",
              "      let quickchartButtonEl =\n",
              "        document.querySelector('#df-2f2a61ef-9300-4ddf-b27a-d3cba76d2d4a button');\n",
              "      quickchartButtonEl.style.display =\n",
              "        google.colab.kernel.accessAllowed ? 'block' : 'none';\n",
              "    })();\n",
              "  </script>\n",
              "</div>\n",
              "    </div>\n",
              "  </div>\n"
            ],
            "application/vnd.google.colaboratory.intrinsic+json": {
              "type": "dataframe",
              "variable_name": "Xtrain",
              "summary": "{\n  \"name\": \"Xtrain\",\n  \"rows\": 75000,\n  \"fields\": [\n    {\n      \"column\": \"Month\",\n      \"properties\": {\n        \"dtype\": \"category\",\n        \"num_unique_values\": 12,\n        \"samples\": [\n          \"c-1\",\n          \"c-7\",\n          \"c-4\"\n        ],\n        \"semantic_type\": \"\",\n        \"description\": \"\"\n      }\n    },\n    {\n      \"column\": \"DayofMonth\",\n      \"properties\": {\n        \"dtype\": \"category\",\n        \"num_unique_values\": 31,\n        \"samples\": [\n          \"c-15\",\n          \"c-12\",\n          \"c-31\"\n        ],\n        \"semantic_type\": \"\",\n        \"description\": \"\"\n      }\n    },\n    {\n      \"column\": \"DayOfWeek\",\n      \"properties\": {\n        \"dtype\": \"category\",\n        \"num_unique_values\": 7,\n        \"samples\": [\n          \"c-1\",\n          \"c-2\",\n          \"c-7\"\n        ],\n        \"semantic_type\": \"\",\n        \"description\": \"\"\n      }\n    },\n    {\n      \"column\": \"DepTime\",\n      \"properties\": {\n        \"dtype\": \"number\",\n        \"std\": 475,\n        \"min\": 1,\n        \"max\": 2534,\n        \"num_unique_values\": 1279,\n        \"samples\": [\n          155,\n          107,\n          1637\n        ],\n        \"semantic_type\": \"\",\n        \"description\": \"\"\n      }\n    },\n    {\n      \"column\": \"UniqueCarrier\",\n      \"properties\": {\n        \"dtype\": \"category\",\n        \"num_unique_values\": 22,\n        \"samples\": [\n          \"CO\",\n          \"FL\",\n          \"XE\"\n        ],\n        \"semantic_type\": \"\",\n        \"description\": \"\"\n      }\n    },\n    {\n      \"column\": \"Origin\",\n      \"properties\": {\n        \"dtype\": \"category\",\n        \"num_unique_values\": 288,\n        \"samples\": [\n          \"RDU\",\n          \"CLL\",\n          \"SWF\"\n        ],\n        \"semantic_type\": \"\",\n        \"description\": \"\"\n      }\n    },\n    {\n      \"column\": \"Dest\",\n      \"properties\": {\n        \"dtype\": \"category\",\n        \"num_unique_values\": 286,\n        \"samples\": [\n          \"MCO\",\n          \"OME\",\n          \"HSV\"\n        ],\n        \"semantic_type\": \"\",\n        \"description\": \"\"\n      }\n    },\n    {\n      \"column\": \"Distance\",\n      \"properties\": {\n        \"dtype\": \"number\",\n        \"std\": 576,\n        \"min\": 30,\n        \"max\": 4962,\n        \"num_unique_values\": 1304,\n        \"samples\": [\n          133,\n          395,\n          719\n        ],\n        \"semantic_type\": \"\",\n        \"description\": \"\"\n      }\n    }\n  ]\n}"
            }
          },
          "metadata": {},
          "execution_count": 7
        }
      ]
    },
    {
      "cell_type": "markdown",
      "source": [
        "## Модели с параметрами по умолчанию"
      ],
      "metadata": {
        "id": "8E9ZC9UXymeu"
      }
    },
    {
      "cell_type": "markdown",
      "source": [
        "Обучите CatBoost с гиперпараметрами по умолчанию.\n",
        "\n",
        "## Quiz\n",
        "Чему равен ROC-AUC на тестовых данных? Ответ округлите до сотых."
      ],
      "metadata": {
        "id": "BiT-smHxypQx"
      }
    },
    {
      "cell_type": "code",
      "source": [
        "from catboost import CatBoostClassifier, Pool, metrics, cv\n",
        "from sklearn.metrics import roc_auc_score\n",
        "model = CatBoostClassifier(random_seed=RANDOM_STATE, verbose=0)\n",
        "model.fit(Xtrain, ytrain, cat_features=cat_features)\n",
        "y_pred=model.predict(Xtest)\n",
        "y_pred_prob=model.predict_proba(Xtest)\n",
        "roc_auc=roc_auc_score(ytest, y_pred_prob[:,1])\n",
        "print(round(roc_auc, 2))"
      ],
      "metadata": {
        "id": "vdjpjT1Gw8ff",
        "outputId": "68d29543-265b-4092-eccd-7b99751c98aa",
        "colab": {
          "base_uri": "https://localhost:8080/"
        }
      },
      "execution_count": null,
      "outputs": [
        {
          "output_type": "stream",
          "name": "stdout",
          "text": [
            "0.77\n"
          ]
        }
      ]
    },
    {
      "cell_type": "markdown",
      "source": [
        "Обучите LightGBM с гиперпараметрами по умолчанию.\n",
        "\n",
        "## Quiz\n",
        "Чему равен ROC-AUC на тестовых данных? Ответ округлите до сотых."
      ],
      "metadata": {
        "id": "fBO2HEaAy61O"
      }
    },
    {
      "cell_type": "code",
      "source": [
        "for c in X.columns:\n",
        "    col_type = X[c].dtype\n",
        "    if col_type == 'object' or col_type.name == 'category':\n",
        "        Xtrain[c] = Xtrain[c].astype('category')\n",
        "        Xtest[c] = Xtest[c].astype('category')"
      ],
      "metadata": {
        "id": "G_g3Ead3yZ5v"
      },
      "execution_count": null,
      "outputs": []
    },
    {
      "cell_type": "code",
      "source": [
        "model=LGBMClassifier(random_state=RANDOM_STATE)\n",
        "model.fit(Xtrain, ytrain)\n",
        "\n",
        "y_pred=model.predict(Xtest)\n",
        "y_pred_prob=model.predict_proba(Xtest)\n",
        "roc_auc=roc_auc_score(ytest, y_pred_prob[:,1])\n",
        "print(round(roc_auc, 2))"
      ],
      "metadata": {
        "id": "Z2jPIID3xUPw",
        "outputId": "fc5165a0-4781-4922-d5a2-33acf9b6f9d7",
        "colab": {
          "base_uri": "https://localhost:8080/"
        }
      },
      "execution_count": null,
      "outputs": [
        {
          "output_type": "stream",
          "name": "stdout",
          "text": [
            "[LightGBM] [Info] Number of positive: 14346, number of negative: 60654\n",
            "[LightGBM] [Info] Auto-choosing col-wise multi-threading, the overhead of testing was 0.012819 seconds.\n",
            "You can set `force_col_wise=true` to remove the overhead.\n",
            "[LightGBM] [Info] Total Bins 1095\n",
            "[LightGBM] [Info] Number of data points in the train set: 75000, number of used features: 8\n",
            "[LightGBM] [Info] [binary:BoostFromScore]: pavg=0.191280 -> initscore=-1.441714\n",
            "[LightGBM] [Info] Start training from score -1.441714\n",
            "0.73\n"
          ]
        }
      ]
    },
    {
      "cell_type": "markdown",
      "source": [
        "## Optuna"
      ],
      "metadata": {
        "id": "zazHv43vzn2e"
      }
    },
    {
      "cell_type": "markdown",
      "source": [
        "Выделим дополнительную валидационную выборку."
      ],
      "metadata": {
        "id": "MGaTMoDr7cvz"
      }
    },
    {
      "cell_type": "code",
      "source": [
        "Xtrain_new, Xval, ytrain_new, yval = train_test_split(Xtrain, ytrain, test_size=0.25, random_state=RANDOM_STATE)"
      ],
      "metadata": {
        "id": "meyw3CyV1aF_"
      },
      "execution_count": null,
      "outputs": []
    },
    {
      "cell_type": "markdown",
      "source": [
        "Создайте функцию objective_lgbm, в которой среди гиперпараметров\n",
        "\n",
        "* num_leaves = trial.suggest_int(\"num_leaves\", 10, 100)\n",
        "* n_estimators = trial.suggest_int(\"n_estimators\", 10, 1000)\n",
        "\n",
        "подберите оптимальные, обучая LGBM на Xtrain_new, ytrain_new и проверяя качество (ROC-AUC) на Xval.\n",
        "\n",
        "Используйте 30 эпох обучения Optuna.\n"
      ],
      "metadata": {
        "id": "RatJBHjn1tq2"
      }
    },
    {
      "cell_type": "code",
      "source": [
        "import optuna\n",
        "\n",
        "def objective_lgbm(trial):\n",
        "    # num_leaves (int, optional (default=31)) – Maximum tree leaves for base learners.\n",
        "    num_leaves = trial.suggest_int(\"num_leaves\", 10, 100)\n",
        "    # n_estimators (int, optional (default=100)) – Number of boosted trees to fit.\n",
        "    n_estimators = trial.suggest_int(\"n_estimators\", 10, 1000)\n",
        "\n",
        "    model=LGBMClassifier(num_leaves=num_leaves, n_estimators=n_estimators, random_state=RANDOM_STATE)\n",
        "    model.fit(Xtrain_new, ytrain_new)\n",
        "\n",
        "    # y_pred=model.predict(Xval)\n",
        "    y_pred_prob=model.predict_proba(Xval)\n",
        "    roc_auc=roc_auc_score(yval, y_pred_prob[:,1])\n",
        "    return roc_auc\n",
        "\n",
        "# storage = optuna.storages.InMemoryStorage()\n",
        "study = optuna.create_study(direction='maximize')\n",
        "\n",
        "# Используйте 30 эпох обучения Optuna.\n",
        "study.optimize(objective_lgbm, n_trials=30)\n",
        "# {'num_leaves': 65, 'n_estimators': 41}\n",
        "# {'num_leaves': 52, 'n_estimators': 40}\n",
        "# {'num_leaves': 52, 'n_estimators': 37}\n",
        "# {'num_leaves': 96, 'n_estimators': 36}\n",
        "\n",
        "# study.optimize(objective, n_trials=200)\n",
        "# {'num_leaves': 13, 'n_estimators': 73}\n",
        "\n",
        "study.best_params"
      ],
      "metadata": {
        "id": "YgOH1GMFzhW1",
        "outputId": "dbe2540d-6cd1-4a16-9146-079d6d759ffa",
        "colab": {
          "base_uri": "https://localhost:8080/"
        }
      },
      "execution_count": null,
      "outputs": [
        {
          "output_type": "stream",
          "name": "stderr",
          "text": [
            "[I 2024-07-29 08:51:33,448] A new study created in memory with name: no-name-43b9a5cf-8074-4839-aed3-ee0d7699c1d5\n"
          ]
        },
        {
          "output_type": "stream",
          "name": "stdout",
          "text": [
            "[LightGBM] [Info] Number of positive: 10730, number of negative: 45520\n",
            "[LightGBM] [Info] Auto-choosing col-wise multi-threading, the overhead of testing was 0.005286 seconds.\n",
            "You can set `force_col_wise=true` to remove the overhead.\n",
            "[LightGBM] [Info] Total Bins 1095\n",
            "[LightGBM] [Info] Number of data points in the train set: 56250, number of used features: 8\n",
            "[LightGBM] [Info] [binary:BoostFromScore]: pavg=0.190756 -> initscore=-1.445108\n",
            "[LightGBM] [Info] Start training from score -1.445108\n"
          ]
        },
        {
          "output_type": "stream",
          "name": "stderr",
          "text": [
            "[I 2024-07-29 08:51:43,151] Trial 0 finished with value: 0.7177544320880956 and parameters: {'num_leaves': 65, 'n_estimators': 524}. Best is trial 0 with value: 0.7177544320880956.\n"
          ]
        },
        {
          "output_type": "stream",
          "name": "stdout",
          "text": [
            "[LightGBM] [Info] Number of positive: 10730, number of negative: 45520\n",
            "[LightGBM] [Info] Auto-choosing row-wise multi-threading, the overhead of testing was 0.001614 seconds.\n",
            "You can set `force_row_wise=true` to remove the overhead.\n",
            "And if memory is not enough, you can set `force_col_wise=true`.\n",
            "[LightGBM] [Info] Total Bins 1095\n",
            "[LightGBM] [Info] Number of data points in the train set: 56250, number of used features: 8\n",
            "[LightGBM] [Info] [binary:BoostFromScore]: pavg=0.190756 -> initscore=-1.445108\n",
            "[LightGBM] [Info] Start training from score -1.445108\n"
          ]
        },
        {
          "output_type": "stream",
          "name": "stderr",
          "text": [
            "[I 2024-07-29 08:51:47,065] Trial 1 finished with value: 0.720233740092928 and parameters: {'num_leaves': 70, 'n_estimators': 282}. Best is trial 1 with value: 0.720233740092928.\n"
          ]
        },
        {
          "output_type": "stream",
          "name": "stdout",
          "text": [
            "[LightGBM] [Info] Number of positive: 10730, number of negative: 45520\n",
            "[LightGBM] [Info] Auto-choosing col-wise multi-threading, the overhead of testing was 0.005381 seconds.\n",
            "You can set `force_col_wise=true` to remove the overhead.\n",
            "[LightGBM] [Info] Total Bins 1095\n",
            "[LightGBM] [Info] Number of data points in the train set: 56250, number of used features: 8\n",
            "[LightGBM] [Info] [binary:BoostFromScore]: pavg=0.190756 -> initscore=-1.445108\n",
            "[LightGBM] [Info] Start training from score -1.445108\n"
          ]
        },
        {
          "output_type": "stream",
          "name": "stderr",
          "text": [
            "[I 2024-07-29 08:51:52,523] Trial 2 finished with value: 0.7143610552515521 and parameters: {'num_leaves': 25, 'n_estimators': 807}. Best is trial 1 with value: 0.720233740092928.\n"
          ]
        },
        {
          "output_type": "stream",
          "name": "stdout",
          "text": [
            "[LightGBM] [Info] Number of positive: 10730, number of negative: 45520\n",
            "[LightGBM] [Info] Auto-choosing col-wise multi-threading, the overhead of testing was 0.005542 seconds.\n",
            "You can set `force_col_wise=true` to remove the overhead.\n",
            "[LightGBM] [Info] Total Bins 1095\n",
            "[LightGBM] [Info] Number of data points in the train set: 56250, number of used features: 8\n",
            "[LightGBM] [Info] [binary:BoostFromScore]: pavg=0.190756 -> initscore=-1.445108\n",
            "[LightGBM] [Info] Start training from score -1.445108\n"
          ]
        },
        {
          "output_type": "stream",
          "name": "stderr",
          "text": [
            "[I 2024-07-29 08:51:59,310] Trial 3 finished with value: 0.716278695716496 and parameters: {'num_leaves': 62, 'n_estimators': 562}. Best is trial 1 with value: 0.720233740092928.\n"
          ]
        },
        {
          "output_type": "stream",
          "name": "stdout",
          "text": [
            "[LightGBM] [Info] Number of positive: 10730, number of negative: 45520\n",
            "[LightGBM] [Info] Auto-choosing row-wise multi-threading, the overhead of testing was 0.001444 seconds.\n",
            "You can set `force_row_wise=true` to remove the overhead.\n",
            "And if memory is not enough, you can set `force_col_wise=true`.\n",
            "[LightGBM] [Info] Total Bins 1095\n",
            "[LightGBM] [Info] Number of data points in the train set: 56250, number of used features: 8\n",
            "[LightGBM] [Info] [binary:BoostFromScore]: pavg=0.190756 -> initscore=-1.445108\n",
            "[LightGBM] [Info] Start training from score -1.445108\n"
          ]
        },
        {
          "output_type": "stream",
          "name": "stderr",
          "text": [
            "[I 2024-07-29 08:52:01,439] Trial 4 finished with value: 0.719614018163404 and parameters: {'num_leaves': 49, 'n_estimators': 181}. Best is trial 1 with value: 0.720233740092928.\n",
            "[I 2024-07-29 08:52:01,695] Trial 5 finished with value: 0.7208090669517502 and parameters: {'num_leaves': 46, 'n_estimators': 14}. Best is trial 5 with value: 0.7208090669517502.\n"
          ]
        },
        {
          "output_type": "stream",
          "name": "stdout",
          "text": [
            "[LightGBM] [Info] Number of positive: 10730, number of negative: 45520\n",
            "[LightGBM] [Info] Auto-choosing row-wise multi-threading, the overhead of testing was 0.001568 seconds.\n",
            "You can set `force_row_wise=true` to remove the overhead.\n",
            "And if memory is not enough, you can set `force_col_wise=true`.\n",
            "[LightGBM] [Info] Total Bins 1095\n",
            "[LightGBM] [Info] Number of data points in the train set: 56250, number of used features: 8\n",
            "[LightGBM] [Info] [binary:BoostFromScore]: pavg=0.190756 -> initscore=-1.445108\n",
            "[LightGBM] [Info] Start training from score -1.445108\n",
            "[LightGBM] [Info] Number of positive: 10730, number of negative: 45520\n",
            "[LightGBM] [Info] Auto-choosing col-wise multi-threading, the overhead of testing was 0.015267 seconds.\n",
            "You can set `force_col_wise=true` to remove the overhead.\n",
            "[LightGBM] [Info] Total Bins 1095\n",
            "[LightGBM] [Info] Number of data points in the train set: 56250, number of used features: 8\n",
            "[LightGBM] [Info] [binary:BoostFromScore]: pavg=0.190756 -> initscore=-1.445108\n",
            "[LightGBM] [Info] Start training from score -1.445108\n"
          ]
        },
        {
          "output_type": "stream",
          "name": "stderr",
          "text": [
            "[I 2024-07-29 08:52:13,801] Trial 6 finished with value: 0.7175890949406539 and parameters: {'num_leaves': 80, 'n_estimators': 938}. Best is trial 5 with value: 0.7208090669517502.\n"
          ]
        },
        {
          "output_type": "stream",
          "name": "stdout",
          "text": [
            "[LightGBM] [Info] Number of positive: 10730, number of negative: 45520\n",
            "[LightGBM] [Info] Auto-choosing row-wise multi-threading, the overhead of testing was 0.001497 seconds.\n",
            "You can set `force_row_wise=true` to remove the overhead.\n",
            "And if memory is not enough, you can set `force_col_wise=true`.\n",
            "[LightGBM] [Info] Total Bins 1095\n",
            "[LightGBM] [Info] Number of data points in the train set: 56250, number of used features: 8\n",
            "[LightGBM] [Info] [binary:BoostFromScore]: pavg=0.190756 -> initscore=-1.445108\n",
            "[LightGBM] [Info] Start training from score -1.445108\n"
          ]
        },
        {
          "output_type": "stream",
          "name": "stderr",
          "text": [
            "[I 2024-07-29 08:52:23,379] Trial 7 finished with value: 0.7199311519160397 and parameters: {'num_leaves': 78, 'n_estimators': 809}. Best is trial 5 with value: 0.7208090669517502.\n"
          ]
        },
        {
          "output_type": "stream",
          "name": "stdout",
          "text": [
            "[LightGBM] [Info] Number of positive: 10730, number of negative: 45520\n",
            "[LightGBM] [Info] Auto-choosing col-wise multi-threading, the overhead of testing was 0.005437 seconds.\n",
            "You can set `force_col_wise=true` to remove the overhead.\n",
            "[LightGBM] [Info] Total Bins 1095\n",
            "[LightGBM] [Info] Number of data points in the train set: 56250, number of used features: 8\n",
            "[LightGBM] [Info] [binary:BoostFromScore]: pavg=0.190756 -> initscore=-1.445108\n",
            "[LightGBM] [Info] Start training from score -1.445108\n"
          ]
        },
        {
          "output_type": "stream",
          "name": "stderr",
          "text": [
            "[I 2024-07-29 08:52:24,527] Trial 8 finished with value: 0.7225361622017352 and parameters: {'num_leaves': 40, 'n_estimators': 98}. Best is trial 8 with value: 0.7225361622017352.\n"
          ]
        },
        {
          "output_type": "stream",
          "name": "stdout",
          "text": [
            "[LightGBM] [Info] Number of positive: 10730, number of negative: 45520\n",
            "[LightGBM] [Info] Auto-choosing row-wise multi-threading, the overhead of testing was 0.001406 seconds.\n",
            "You can set `force_row_wise=true` to remove the overhead.\n",
            "And if memory is not enough, you can set `force_col_wise=true`.\n",
            "[LightGBM] [Info] Total Bins 1095\n",
            "[LightGBM] [Info] Number of data points in the train set: 56250, number of used features: 8\n",
            "[LightGBM] [Info] [binary:BoostFromScore]: pavg=0.190756 -> initscore=-1.445108\n",
            "[LightGBM] [Info] Start training from score -1.445108\n"
          ]
        },
        {
          "output_type": "stream",
          "name": "stderr",
          "text": [
            "[I 2024-07-29 08:52:34,025] Trial 9 finished with value: 0.7198217677245514 and parameters: {'num_leaves': 67, 'n_estimators': 944}. Best is trial 8 with value: 0.7225361622017352.\n"
          ]
        },
        {
          "output_type": "stream",
          "name": "stdout",
          "text": [
            "[LightGBM] [Info] Number of positive: 10730, number of negative: 45520\n",
            "[LightGBM] [Info] Auto-choosing row-wise multi-threading, the overhead of testing was 0.002682 seconds.\n",
            "You can set `force_row_wise=true` to remove the overhead.\n",
            "And if memory is not enough, you can set `force_col_wise=true`.\n",
            "[LightGBM] [Info] Total Bins 1095\n",
            "[LightGBM] [Info] Number of data points in the train set: 56250, number of used features: 8\n",
            "[LightGBM] [Info] [binary:BoostFromScore]: pavg=0.190756 -> initscore=-1.445108\n",
            "[LightGBM] [Info] Start training from score -1.445108\n"
          ]
        },
        {
          "output_type": "stream",
          "name": "stderr",
          "text": [
            "[I 2024-07-29 08:52:38,731] Trial 10 finished with value: 0.7204649343446333 and parameters: {'num_leaves': 97, 'n_estimators': 310}. Best is trial 8 with value: 0.7225361622017352.\n",
            "[I 2024-07-29 08:52:38,955] Trial 11 finished with value: 0.7186751250042394 and parameters: {'num_leaves': 36, 'n_estimators': 11}. Best is trial 8 with value: 0.7225361622017352.\n"
          ]
        },
        {
          "output_type": "stream",
          "name": "stdout",
          "text": [
            "[LightGBM] [Info] Number of positive: 10730, number of negative: 45520\n",
            "[LightGBM] [Info] Auto-choosing row-wise multi-threading, the overhead of testing was 0.001433 seconds.\n",
            "You can set `force_row_wise=true` to remove the overhead.\n",
            "And if memory is not enough, you can set `force_col_wise=true`.\n",
            "[LightGBM] [Info] Total Bins 1095\n",
            "[LightGBM] [Info] Number of data points in the train set: 56250, number of used features: 8\n",
            "[LightGBM] [Info] [binary:BoostFromScore]: pavg=0.190756 -> initscore=-1.445108\n",
            "[LightGBM] [Info] Start training from score -1.445108\n",
            "[LightGBM] [Info] Number of positive: 10730, number of negative: 45520\n",
            "[LightGBM] [Info] Auto-choosing row-wise multi-threading, the overhead of testing was 0.001421 seconds.\n",
            "You can set `force_row_wise=true` to remove the overhead.\n",
            "And if memory is not enough, you can set `force_col_wise=true`.\n",
            "[LightGBM] [Info] Total Bins 1095\n",
            "[LightGBM] [Info] Number of data points in the train set: 56250, number of used features: 8\n",
            "[LightGBM] [Info] [binary:BoostFromScore]: pavg=0.190756 -> initscore=-1.445108\n",
            "[LightGBM] [Info] Start training from score -1.445108\n"
          ]
        },
        {
          "output_type": "stream",
          "name": "stderr",
          "text": [
            "[I 2024-07-29 08:52:39,470] Trial 12 finished with value: 0.7247858474617898 and parameters: {'num_leaves': 42, 'n_estimators': 36}. Best is trial 12 with value: 0.7247858474617898.\n"
          ]
        },
        {
          "output_type": "stream",
          "name": "stdout",
          "text": [
            "[LightGBM] [Info] Number of positive: 10730, number of negative: 45520\n",
            "[LightGBM] [Info] Auto-choosing col-wise multi-threading, the overhead of testing was 0.006056 seconds.\n",
            "You can set `force_col_wise=true` to remove the overhead.\n",
            "[LightGBM] [Info] Total Bins 1095\n",
            "[LightGBM] [Info] Number of data points in the train set: 56250, number of used features: 8\n",
            "[LightGBM] [Info] [binary:BoostFromScore]: pavg=0.190756 -> initscore=-1.445108\n",
            "[LightGBM] [Info] Start training from score -1.445108\n"
          ]
        },
        {
          "output_type": "stream",
          "name": "stderr",
          "text": [
            "[I 2024-07-29 08:52:40,907] Trial 13 finished with value: 0.7223313546477427 and parameters: {'num_leaves': 16, 'n_estimators': 213}. Best is trial 12 with value: 0.7247858474617898.\n"
          ]
        },
        {
          "output_type": "stream",
          "name": "stdout",
          "text": [
            "[LightGBM] [Info] Number of positive: 10730, number of negative: 45520\n",
            "[LightGBM] [Info] Auto-choosing row-wise multi-threading, the overhead of testing was 0.001504 seconds.\n",
            "You can set `force_row_wise=true` to remove the overhead.\n",
            "And if memory is not enough, you can set `force_col_wise=true`.\n",
            "[LightGBM] [Info] Total Bins 1095\n",
            "[LightGBM] [Info] Number of data points in the train set: 56250, number of used features: 8\n",
            "[LightGBM] [Info] [binary:BoostFromScore]: pavg=0.190756 -> initscore=-1.445108\n",
            "[LightGBM] [Info] Start training from score -1.445108\n"
          ]
        },
        {
          "output_type": "stream",
          "name": "stderr",
          "text": [
            "[I 2024-07-29 08:52:43,712] Trial 14 finished with value: 0.7202723516526699 and parameters: {'num_leaves': 34, 'n_estimators': 393}. Best is trial 12 with value: 0.7247858474617898.\n"
          ]
        },
        {
          "output_type": "stream",
          "name": "stdout",
          "text": [
            "[LightGBM] [Info] Number of positive: 10730, number of negative: 45520\n",
            "[LightGBM] [Info] Auto-choosing row-wise multi-threading, the overhead of testing was 0.001419 seconds.\n",
            "You can set `force_row_wise=true` to remove the overhead.\n",
            "And if memory is not enough, you can set `force_col_wise=true`.\n",
            "[LightGBM] [Info] Total Bins 1095\n",
            "[LightGBM] [Info] Number of data points in the train set: 56250, number of used features: 8\n",
            "[LightGBM] [Info] [binary:BoostFromScore]: pavg=0.190756 -> initscore=-1.445108\n",
            "[LightGBM] [Info] Start training from score -1.445108\n"
          ]
        },
        {
          "output_type": "stream",
          "name": "stderr",
          "text": [
            "[I 2024-07-29 08:52:45,242] Trial 15 finished with value: 0.7222168356487355 and parameters: {'num_leaves': 40, 'n_estimators': 117}. Best is trial 12 with value: 0.7247858474617898.\n"
          ]
        },
        {
          "output_type": "stream",
          "name": "stdout",
          "text": [
            "[LightGBM] [Info] Number of positive: 10730, number of negative: 45520\n",
            "[LightGBM] [Info] Auto-choosing row-wise multi-threading, the overhead of testing was 0.001398 seconds.\n",
            "You can set `force_row_wise=true` to remove the overhead.\n",
            "And if memory is not enough, you can set `force_col_wise=true`.\n",
            "[LightGBM] [Info] Total Bins 1095\n",
            "[LightGBM] [Info] Number of data points in the train set: 56250, number of used features: 8\n",
            "[LightGBM] [Info] [binary:BoostFromScore]: pavg=0.190756 -> initscore=-1.445108\n",
            "[LightGBM] [Info] Start training from score -1.445108\n"
          ]
        },
        {
          "output_type": "stream",
          "name": "stderr",
          "text": [
            "[I 2024-07-29 08:52:47,835] Trial 16 finished with value: 0.720316171113276 and parameters: {'num_leaves': 16, 'n_estimators': 420}. Best is trial 12 with value: 0.7247858474617898.\n"
          ]
        },
        {
          "output_type": "stream",
          "name": "stdout",
          "text": [
            "[LightGBM] [Info] Number of positive: 10730, number of negative: 45520\n",
            "[LightGBM] [Info] Auto-choosing row-wise multi-threading, the overhead of testing was 0.002828 seconds.\n",
            "You can set `force_row_wise=true` to remove the overhead.\n",
            "And if memory is not enough, you can set `force_col_wise=true`.\n",
            "[LightGBM] [Info] Total Bins 1095\n",
            "[LightGBM] [Info] Number of data points in the train set: 56250, number of used features: 8\n",
            "[LightGBM] [Info] [binary:BoostFromScore]: pavg=0.190756 -> initscore=-1.445108\n",
            "[LightGBM] [Info] Start training from score -1.445108\n"
          ]
        },
        {
          "output_type": "stream",
          "name": "stderr",
          "text": [
            "[I 2024-07-29 08:52:50,028] Trial 17 finished with value: 0.7209981320264632 and parameters: {'num_leaves': 53, 'n_estimators': 132}. Best is trial 12 with value: 0.7247858474617898.\n"
          ]
        },
        {
          "output_type": "stream",
          "name": "stdout",
          "text": [
            "[LightGBM] [Info] Number of positive: 10730, number of negative: 45520\n",
            "[LightGBM] [Info] Auto-choosing row-wise multi-threading, the overhead of testing was 0.002522 seconds.\n",
            "You can set `force_row_wise=true` to remove the overhead.\n",
            "And if memory is not enough, you can set `force_col_wise=true`.\n",
            "[LightGBM] [Info] Total Bins 1095\n",
            "[LightGBM] [Info] Number of data points in the train set: 56250, number of used features: 8\n",
            "[LightGBM] [Info] [binary:BoostFromScore]: pavg=0.190756 -> initscore=-1.445108\n",
            "[LightGBM] [Info] Start training from score -1.445108\n"
          ]
        },
        {
          "output_type": "stream",
          "name": "stderr",
          "text": [
            "[I 2024-07-29 08:52:54,655] Trial 18 finished with value: 0.716882848763436 and parameters: {'num_leaves': 27, 'n_estimators': 685}. Best is trial 12 with value: 0.7247858474617898.\n"
          ]
        },
        {
          "output_type": "stream",
          "name": "stdout",
          "text": [
            "[LightGBM] [Info] Number of positive: 10730, number of negative: 45520\n",
            "[LightGBM] [Info] Auto-choosing row-wise multi-threading, the overhead of testing was 0.001450 seconds.\n",
            "You can set `force_row_wise=true` to remove the overhead.\n",
            "And if memory is not enough, you can set `force_col_wise=true`.\n",
            "[LightGBM] [Info] Total Bins 1095\n",
            "[LightGBM] [Info] Number of data points in the train set: 56250, number of used features: 8\n",
            "[LightGBM] [Info] [binary:BoostFromScore]: pavg=0.190756 -> initscore=-1.445108\n",
            "[LightGBM] [Info] Start training from score -1.445108\n"
          ]
        },
        {
          "output_type": "stream",
          "name": "stderr",
          "text": [
            "[I 2024-07-29 08:52:55,599] Trial 19 finished with value: 0.7238755063906973 and parameters: {'num_leaves': 26, 'n_estimators': 97}. Best is trial 12 with value: 0.7247858474617898.\n"
          ]
        },
        {
          "output_type": "stream",
          "name": "stdout",
          "text": [
            "[LightGBM] [Info] Number of positive: 10730, number of negative: 45520\n",
            "[LightGBM] [Info] Auto-choosing row-wise multi-threading, the overhead of testing was 0.001464 seconds.\n",
            "You can set `force_row_wise=true` to remove the overhead.\n",
            "And if memory is not enough, you can set `force_col_wise=true`.\n",
            "[LightGBM] [Info] Total Bins 1095\n",
            "[LightGBM] [Info] Number of data points in the train set: 56250, number of used features: 8\n",
            "[LightGBM] [Info] [binary:BoostFromScore]: pavg=0.190756 -> initscore=-1.445108\n",
            "[LightGBM] [Info] Start training from score -1.445108\n"
          ]
        },
        {
          "output_type": "stream",
          "name": "stderr",
          "text": [
            "[I 2024-07-29 08:52:57,062] Trial 20 finished with value: 0.7268737771483303 and parameters: {'num_leaves': 10, 'n_estimators': 277}. Best is trial 20 with value: 0.7268737771483303.\n"
          ]
        },
        {
          "output_type": "stream",
          "name": "stdout",
          "text": [
            "[LightGBM] [Info] Number of positive: 10730, number of negative: 45520\n",
            "[LightGBM] [Info] Auto-choosing row-wise multi-threading, the overhead of testing was 0.001610 seconds.\n",
            "You can set `force_row_wise=true` to remove the overhead.\n",
            "And if memory is not enough, you can set `force_col_wise=true`.\n",
            "[LightGBM] [Info] Total Bins 1095\n",
            "[LightGBM] [Info] Number of data points in the train set: 56250, number of used features: 8\n",
            "[LightGBM] [Info] [binary:BoostFromScore]: pavg=0.190756 -> initscore=-1.445108\n",
            "[LightGBM] [Info] Start training from score -1.445108\n"
          ]
        },
        {
          "output_type": "stream",
          "name": "stderr",
          "text": [
            "[I 2024-07-29 08:52:58,643] Trial 21 finished with value: 0.7247174320904346 and parameters: {'num_leaves': 14, 'n_estimators': 263}. Best is trial 20 with value: 0.7268737771483303.\n"
          ]
        },
        {
          "output_type": "stream",
          "name": "stdout",
          "text": [
            "[LightGBM] [Info] Number of positive: 10730, number of negative: 45520\n",
            "[LightGBM] [Info] Auto-choosing row-wise multi-threading, the overhead of testing was 0.001513 seconds.\n",
            "You can set `force_row_wise=true` to remove the overhead.\n",
            "And if memory is not enough, you can set `force_col_wise=true`.\n",
            "[LightGBM] [Info] Total Bins 1095\n",
            "[LightGBM] [Info] Number of data points in the train set: 56250, number of used features: 8\n",
            "[LightGBM] [Info] [binary:BoostFromScore]: pavg=0.190756 -> initscore=-1.445108\n",
            "[LightGBM] [Info] Start training from score -1.445108\n"
          ]
        },
        {
          "output_type": "stream",
          "name": "stderr",
          "text": [
            "[I 2024-07-29 08:53:00,213] Trial 22 finished with value: 0.725049166238827 and parameters: {'num_leaves': 14, 'n_estimators': 270}. Best is trial 20 with value: 0.7268737771483303.\n"
          ]
        },
        {
          "output_type": "stream",
          "name": "stdout",
          "text": [
            "[LightGBM] [Info] Number of positive: 10730, number of negative: 45520\n",
            "[LightGBM] [Info] Auto-choosing row-wise multi-threading, the overhead of testing was 0.005636 seconds.\n",
            "You can set `force_row_wise=true` to remove the overhead.\n",
            "And if memory is not enough, you can set `force_col_wise=true`.\n",
            "[LightGBM] [Info] Total Bins 1095\n",
            "[LightGBM] [Info] Number of data points in the train set: 56250, number of used features: 8\n",
            "[LightGBM] [Info] [binary:BoostFromScore]: pavg=0.190756 -> initscore=-1.445108\n",
            "[LightGBM] [Info] Start training from score -1.445108\n"
          ]
        },
        {
          "output_type": "stream",
          "name": "stderr",
          "text": [
            "[I 2024-07-29 08:53:03,069] Trial 23 finished with value: 0.7246745262966467 and parameters: {'num_leaves': 10, 'n_estimators': 399}. Best is trial 20 with value: 0.7268737771483303.\n"
          ]
        },
        {
          "output_type": "stream",
          "name": "stdout",
          "text": [
            "[LightGBM] [Info] Number of positive: 10730, number of negative: 45520\n",
            "[LightGBM] [Info] Auto-choosing row-wise multi-threading, the overhead of testing was 0.002617 seconds.\n",
            "You can set `force_row_wise=true` to remove the overhead.\n",
            "And if memory is not enough, you can set `force_col_wise=true`.\n",
            "[LightGBM] [Info] Total Bins 1095\n",
            "[LightGBM] [Info] Number of data points in the train set: 56250, number of used features: 8\n",
            "[LightGBM] [Info] [binary:BoostFromScore]: pavg=0.190756 -> initscore=-1.445108\n",
            "[LightGBM] [Info] Start training from score -1.445108\n"
          ]
        },
        {
          "output_type": "stream",
          "name": "stderr",
          "text": [
            "[I 2024-07-29 08:53:05,524] Trial 24 finished with value: 0.7227588958987031 and parameters: {'num_leaves': 22, 'n_estimators': 356}. Best is trial 20 with value: 0.7268737771483303.\n"
          ]
        },
        {
          "output_type": "stream",
          "name": "stdout",
          "text": [
            "[LightGBM] [Info] Number of positive: 10730, number of negative: 45520\n",
            "[LightGBM] [Info] Auto-choosing row-wise multi-threading, the overhead of testing was 0.001394 seconds.\n",
            "You can set `force_row_wise=true` to remove the overhead.\n",
            "And if memory is not enough, you can set `force_col_wise=true`.\n",
            "[LightGBM] [Info] Total Bins 1095\n",
            "[LightGBM] [Info] Number of data points in the train set: 56250, number of used features: 8\n",
            "[LightGBM] [Info] [binary:BoostFromScore]: pavg=0.190756 -> initscore=-1.445108\n",
            "[LightGBM] [Info] Start training from score -1.445108\n"
          ]
        },
        {
          "output_type": "stream",
          "name": "stderr",
          "text": [
            "[I 2024-07-29 08:53:07,819] Trial 25 finished with value: 0.7239072471759656 and parameters: {'num_leaves': 10, 'n_estimators': 479}. Best is trial 20 with value: 0.7268737771483303.\n"
          ]
        },
        {
          "output_type": "stream",
          "name": "stdout",
          "text": [
            "[LightGBM] [Info] Number of positive: 10730, number of negative: 45520\n",
            "[LightGBM] [Info] Auto-choosing col-wise multi-threading, the overhead of testing was 0.005503 seconds.\n",
            "You can set `force_col_wise=true` to remove the overhead.\n",
            "[LightGBM] [Info] Total Bins 1095\n",
            "[LightGBM] [Info] Number of data points in the train set: 56250, number of used features: 8\n",
            "[LightGBM] [Info] [binary:BoostFromScore]: pavg=0.190756 -> initscore=-1.445108\n",
            "[LightGBM] [Info] Start training from score -1.445108\n"
          ]
        },
        {
          "output_type": "stream",
          "name": "stderr",
          "text": [
            "[I 2024-07-29 08:53:09,647] Trial 26 finished with value: 0.7248543359264903 and parameters: {'num_leaves': 31, 'n_estimators': 215}. Best is trial 20 with value: 0.7268737771483303.\n"
          ]
        },
        {
          "output_type": "stream",
          "name": "stdout",
          "text": [
            "[LightGBM] [Info] Number of positive: 10730, number of negative: 45520\n",
            "[LightGBM] [Info] Auto-choosing row-wise multi-threading, the overhead of testing was 0.001511 seconds.\n",
            "You can set `force_row_wise=true` to remove the overhead.\n",
            "And if memory is not enough, you can set `force_col_wise=true`.\n",
            "[LightGBM] [Info] Total Bins 1095\n",
            "[LightGBM] [Info] Number of data points in the train set: 56250, number of used features: 8\n",
            "[LightGBM] [Info] [binary:BoostFromScore]: pavg=0.190756 -> initscore=-1.445108\n",
            "[LightGBM] [Info] Start training from score -1.445108\n"
          ]
        },
        {
          "output_type": "stream",
          "name": "stderr",
          "text": [
            "[I 2024-07-29 08:53:11,168] Trial 27 finished with value: 0.7222484485206492 and parameters: {'num_leaves': 20, 'n_estimators': 221}. Best is trial 20 with value: 0.7268737771483303.\n"
          ]
        },
        {
          "output_type": "stream",
          "name": "stdout",
          "text": [
            "[LightGBM] [Info] Number of positive: 10730, number of negative: 45520\n",
            "[LightGBM] [Info] Auto-choosing row-wise multi-threading, the overhead of testing was 0.001444 seconds.\n",
            "You can set `force_row_wise=true` to remove the overhead.\n",
            "And if memory is not enough, you can set `force_col_wise=true`.\n",
            "[LightGBM] [Info] Total Bins 1095\n",
            "[LightGBM] [Info] Number of data points in the train set: 56250, number of used features: 8\n",
            "[LightGBM] [Info] [binary:BoostFromScore]: pavg=0.190756 -> initscore=-1.445108\n",
            "[LightGBM] [Info] Start training from score -1.445108\n"
          ]
        },
        {
          "output_type": "stream",
          "name": "stderr",
          "text": [
            "[I 2024-07-29 08:53:13,513] Trial 28 finished with value: 0.7238824868051892 and parameters: {'num_leaves': 31, 'n_estimators': 321}. Best is trial 20 with value: 0.7268737771483303.\n"
          ]
        },
        {
          "output_type": "stream",
          "name": "stdout",
          "text": [
            "[LightGBM] [Info] Number of positive: 10730, number of negative: 45520\n",
            "[LightGBM] [Info] Auto-choosing row-wise multi-threading, the overhead of testing was 0.001414 seconds.\n",
            "You can set `force_row_wise=true` to remove the overhead.\n",
            "And if memory is not enough, you can set `force_col_wise=true`.\n",
            "[LightGBM] [Info] Total Bins 1095\n",
            "[LightGBM] [Info] Number of data points in the train set: 56250, number of used features: 8\n",
            "[LightGBM] [Info] [binary:BoostFromScore]: pavg=0.190756 -> initscore=-1.445108\n",
            "[LightGBM] [Info] Start training from score -1.445108\n"
          ]
        },
        {
          "output_type": "stream",
          "name": "stderr",
          "text": [
            "[I 2024-07-29 08:53:17,353] Trial 29 finished with value: 0.7220687485308238 and parameters: {'num_leaves': 18, 'n_estimators': 469}. Best is trial 20 with value: 0.7268737771483303.\n"
          ]
        },
        {
          "output_type": "execute_result",
          "data": {
            "text/plain": [
              "{'num_leaves': 10, 'n_estimators': 277}"
            ]
          },
          "metadata": {},
          "execution_count": 12
        }
      ]
    },
    {
      "cell_type": "code",
      "source": [
        "study.best_params"
      ],
      "metadata": {
        "id": "fpPS4-E-2Ycm"
      },
      "execution_count": null,
      "outputs": []
    },
    {
      "cell_type": "markdown",
      "source": [
        "Обучите модель с найденными гиперпараметрами на Xtrain, ytrain и оцените ROC-AUC на тестовых данных."
      ],
      "metadata": {
        "id": "VSWz4A5w7mpW"
      }
    },
    {
      "cell_type": "code",
      "source": [
        "# your code here"
      ],
      "metadata": {
        "id": "C2i6MY720D1Y"
      },
      "execution_count": null,
      "outputs": []
    },
    {
      "cell_type": "markdown",
      "source": [
        "## Quiz\n",
        "\n",
        "Чему равно количество деревьев в LGBM после подбора гиперпараметров?"
      ],
      "metadata": {
        "id": "bP4nfUCA5gnm"
      }
    },
    {
      "cell_type": "markdown",
      "source": [
        "## Работа над улучшением модели\n",
        "\n",
        "* Попробуйте при помощи Optuna подобрать и другие гиперпарамтеры\n",
        "* Также подберите гиперпараметры у CatBoost (а не только у LightGBM)"
      ],
      "metadata": {
        "id": "pPVSkXK76b17"
      }
    },
    {
      "cell_type": "code",
      "source": [
        "# your code here"
      ],
      "metadata": {
        "id": "NTjHyWL-6lm-"
      },
      "execution_count": null,
      "outputs": []
    },
    {
      "cell_type": "markdown",
      "source": [
        "## Quiz\n",
        "\n",
        "Поделитесь своими результатами!"
      ],
      "metadata": {
        "id": "3kJk1Czm6nJg"
      }
    }
  ]
}